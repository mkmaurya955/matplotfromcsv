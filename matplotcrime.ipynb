{
 "cells": [
  {
   "cell_type": "code",
   "execution_count": 27,
   "metadata": {},
   "outputs": [],
   "source": [
    "import pandas as pd\n",
    "from pandas import read_csv\n",
    "crimes = read_csv(r'C:\\Users\\manish\\Downloads\\crime\\01_District_wise_crimes_committed_IPC_2001_2012.csv', index_col='STATE/UT')"
   ]
  },
  {
   "cell_type": "code",
   "execution_count": 28,
   "metadata": {},
   "outputs": [
    {
     "name": "stdout",
     "output_type": "stream",
     "text": [
      "<class 'pandas.core.frame.DataFrame'>\n"
     ]
    }
   ],
   "source": [
    "print(type(crimes))"
   ]
  },
  {
   "cell_type": "code",
   "execution_count": 29,
   "metadata": {},
   "outputs": [
    {
     "data": {
      "text/html": [
       "<div>\n",
       "<style scoped>\n",
       "    .dataframe tbody tr th:only-of-type {\n",
       "        vertical-align: middle;\n",
       "    }\n",
       "\n",
       "    .dataframe tbody tr th {\n",
       "        vertical-align: top;\n",
       "    }\n",
       "\n",
       "    .dataframe thead th {\n",
       "        text-align: right;\n",
       "    }\n",
       "</style>\n",
       "<table border=\"1\" class=\"dataframe\">\n",
       "  <thead>\n",
       "    <tr style=\"text-align: right;\">\n",
       "      <th></th>\n",
       "      <th>ATTEMPT TO MURDER</th>\n",
       "      <th>CULPABLE HOMICIDE NOT AMOUNTING TO MURDER</th>\n",
       "      <th>RAPE</th>\n",
       "      <th>CUSTODIAL RAPE</th>\n",
       "      <th>OTHER RAPE</th>\n",
       "      <th>KIDNAPPING &amp; ABDUCTION</th>\n",
       "      <th>KIDNAPPING AND ABDUCTION OF WOMEN AND GIRLS</th>\n",
       "      <th>KIDNAPPING AND ABDUCTION OF OTHERS</th>\n",
       "      <th>DACOITY</th>\n",
       "      <th>PREPARATION AND ASSEMBLY FOR DACOITY</th>\n",
       "      <th>...</th>\n",
       "      <th>ARSON</th>\n",
       "      <th>HURT/GREVIOUS HURT</th>\n",
       "      <th>DOWRY DEATHS</th>\n",
       "      <th>ASSAULT ON WOMEN WITH INTENT TO OUTRAGE HER MODESTY</th>\n",
       "      <th>INSULT TO MODESTY OF WOMEN</th>\n",
       "      <th>CRUELTY BY HUSBAND OR HIS RELATIVES</th>\n",
       "      <th>IMPORTATION OF GIRLS FROM FOREIGN COUNTRIES</th>\n",
       "      <th>CAUSING DEATH BY NEGLIGENCE</th>\n",
       "      <th>OTHER IPC CRIMES</th>\n",
       "      <th>TOTAL IPC CRIMES</th>\n",
       "    </tr>\n",
       "    <tr>\n",
       "      <th>STATE/UT</th>\n",
       "      <th></th>\n",
       "      <th></th>\n",
       "      <th></th>\n",
       "      <th></th>\n",
       "      <th></th>\n",
       "      <th></th>\n",
       "      <th></th>\n",
       "      <th></th>\n",
       "      <th></th>\n",
       "      <th></th>\n",
       "      <th></th>\n",
       "      <th></th>\n",
       "      <th></th>\n",
       "      <th></th>\n",
       "      <th></th>\n",
       "      <th></th>\n",
       "      <th></th>\n",
       "      <th></th>\n",
       "      <th></th>\n",
       "      <th></th>\n",
       "      <th></th>\n",
       "    </tr>\n",
       "  </thead>\n",
       "  <tbody>\n",
       "    <tr>\n",
       "      <th>ANDHRA PRADESH</th>\n",
       "      <td>60</td>\n",
       "      <td>17</td>\n",
       "      <td>50</td>\n",
       "      <td>0</td>\n",
       "      <td>50</td>\n",
       "      <td>46</td>\n",
       "      <td>30</td>\n",
       "      <td>16</td>\n",
       "      <td>9</td>\n",
       "      <td>0</td>\n",
       "      <td>...</td>\n",
       "      <td>30</td>\n",
       "      <td>1131</td>\n",
       "      <td>16</td>\n",
       "      <td>149</td>\n",
       "      <td>34</td>\n",
       "      <td>175</td>\n",
       "      <td>0</td>\n",
       "      <td>181</td>\n",
       "      <td>1518</td>\n",
       "      <td>4154</td>\n",
       "    </tr>\n",
       "    <tr>\n",
       "      <th>ANDHRA PRADESH</th>\n",
       "      <td>125</td>\n",
       "      <td>1</td>\n",
       "      <td>23</td>\n",
       "      <td>0</td>\n",
       "      <td>23</td>\n",
       "      <td>53</td>\n",
       "      <td>30</td>\n",
       "      <td>23</td>\n",
       "      <td>8</td>\n",
       "      <td>0</td>\n",
       "      <td>...</td>\n",
       "      <td>69</td>\n",
       "      <td>1543</td>\n",
       "      <td>7</td>\n",
       "      <td>118</td>\n",
       "      <td>24</td>\n",
       "      <td>154</td>\n",
       "      <td>0</td>\n",
       "      <td>270</td>\n",
       "      <td>754</td>\n",
       "      <td>4125</td>\n",
       "    </tr>\n",
       "    <tr>\n",
       "      <th>ANDHRA PRADESH</th>\n",
       "      <td>57</td>\n",
       "      <td>2</td>\n",
       "      <td>27</td>\n",
       "      <td>0</td>\n",
       "      <td>27</td>\n",
       "      <td>59</td>\n",
       "      <td>34</td>\n",
       "      <td>25</td>\n",
       "      <td>4</td>\n",
       "      <td>0</td>\n",
       "      <td>...</td>\n",
       "      <td>38</td>\n",
       "      <td>2088</td>\n",
       "      <td>14</td>\n",
       "      <td>112</td>\n",
       "      <td>83</td>\n",
       "      <td>186</td>\n",
       "      <td>0</td>\n",
       "      <td>404</td>\n",
       "      <td>1262</td>\n",
       "      <td>5818</td>\n",
       "    </tr>\n",
       "    <tr>\n",
       "      <th>ANDHRA PRADESH</th>\n",
       "      <td>53</td>\n",
       "      <td>1</td>\n",
       "      <td>20</td>\n",
       "      <td>0</td>\n",
       "      <td>20</td>\n",
       "      <td>25</td>\n",
       "      <td>20</td>\n",
       "      <td>5</td>\n",
       "      <td>1</td>\n",
       "      <td>0</td>\n",
       "      <td>...</td>\n",
       "      <td>23</td>\n",
       "      <td>795</td>\n",
       "      <td>17</td>\n",
       "      <td>126</td>\n",
       "      <td>38</td>\n",
       "      <td>57</td>\n",
       "      <td>0</td>\n",
       "      <td>233</td>\n",
       "      <td>1181</td>\n",
       "      <td>3140</td>\n",
       "    </tr>\n",
       "    <tr>\n",
       "      <th>ANDHRA PRADESH</th>\n",
       "      <td>67</td>\n",
       "      <td>1</td>\n",
       "      <td>23</td>\n",
       "      <td>0</td>\n",
       "      <td>23</td>\n",
       "      <td>49</td>\n",
       "      <td>26</td>\n",
       "      <td>23</td>\n",
       "      <td>4</td>\n",
       "      <td>0</td>\n",
       "      <td>...</td>\n",
       "      <td>41</td>\n",
       "      <td>1244</td>\n",
       "      <td>12</td>\n",
       "      <td>109</td>\n",
       "      <td>58</td>\n",
       "      <td>247</td>\n",
       "      <td>0</td>\n",
       "      <td>431</td>\n",
       "      <td>2313</td>\n",
       "      <td>6507</td>\n",
       "    </tr>\n",
       "  </tbody>\n",
       "</table>\n",
       "<p>5 rows × 29 columns</p>\n",
       "</div>"
      ],
      "text/plain": [
       "                ATTEMPT TO MURDER  CULPABLE HOMICIDE NOT AMOUNTING TO MURDER  \\\n",
       "STATE/UT                                                                       \n",
       "ANDHRA PRADESH                 60                                         17   \n",
       "ANDHRA PRADESH                125                                          1   \n",
       "ANDHRA PRADESH                 57                                          2   \n",
       "ANDHRA PRADESH                 53                                          1   \n",
       "ANDHRA PRADESH                 67                                          1   \n",
       "\n",
       "                RAPE  CUSTODIAL RAPE  OTHER RAPE  KIDNAPPING & ABDUCTION  \\\n",
       "STATE/UT                                                                   \n",
       "ANDHRA PRADESH    50               0          50                      46   \n",
       "ANDHRA PRADESH    23               0          23                      53   \n",
       "ANDHRA PRADESH    27               0          27                      59   \n",
       "ANDHRA PRADESH    20               0          20                      25   \n",
       "ANDHRA PRADESH    23               0          23                      49   \n",
       "\n",
       "                KIDNAPPING AND ABDUCTION OF WOMEN AND GIRLS  \\\n",
       "STATE/UT                                                      \n",
       "ANDHRA PRADESH                                           30   \n",
       "ANDHRA PRADESH                                           30   \n",
       "ANDHRA PRADESH                                           34   \n",
       "ANDHRA PRADESH                                           20   \n",
       "ANDHRA PRADESH                                           26   \n",
       "\n",
       "                KIDNAPPING AND ABDUCTION OF OTHERS  DACOITY  \\\n",
       "STATE/UT                                                      \n",
       "ANDHRA PRADESH                                  16        9   \n",
       "ANDHRA PRADESH                                  23        8   \n",
       "ANDHRA PRADESH                                  25        4   \n",
       "ANDHRA PRADESH                                   5        1   \n",
       "ANDHRA PRADESH                                  23        4   \n",
       "\n",
       "                PREPARATION AND ASSEMBLY FOR DACOITY        ...         ARSON  \\\n",
       "STATE/UT                                                    ...                 \n",
       "ANDHRA PRADESH                                     0        ...            30   \n",
       "ANDHRA PRADESH                                     0        ...            69   \n",
       "ANDHRA PRADESH                                     0        ...            38   \n",
       "ANDHRA PRADESH                                     0        ...            23   \n",
       "ANDHRA PRADESH                                     0        ...            41   \n",
       "\n",
       "                HURT/GREVIOUS HURT  DOWRY DEATHS  \\\n",
       "STATE/UT                                           \n",
       "ANDHRA PRADESH                1131            16   \n",
       "ANDHRA PRADESH                1543             7   \n",
       "ANDHRA PRADESH                2088            14   \n",
       "ANDHRA PRADESH                 795            17   \n",
       "ANDHRA PRADESH                1244            12   \n",
       "\n",
       "                ASSAULT ON WOMEN WITH INTENT TO OUTRAGE HER MODESTY  \\\n",
       "STATE/UT                                                              \n",
       "ANDHRA PRADESH                                                149     \n",
       "ANDHRA PRADESH                                                118     \n",
       "ANDHRA PRADESH                                                112     \n",
       "ANDHRA PRADESH                                                126     \n",
       "ANDHRA PRADESH                                                109     \n",
       "\n",
       "                INSULT TO MODESTY OF WOMEN  \\\n",
       "STATE/UT                                     \n",
       "ANDHRA PRADESH                          34   \n",
       "ANDHRA PRADESH                          24   \n",
       "ANDHRA PRADESH                          83   \n",
       "ANDHRA PRADESH                          38   \n",
       "ANDHRA PRADESH                          58   \n",
       "\n",
       "                CRUELTY BY HUSBAND OR HIS RELATIVES  \\\n",
       "STATE/UT                                              \n",
       "ANDHRA PRADESH                                  175   \n",
       "ANDHRA PRADESH                                  154   \n",
       "ANDHRA PRADESH                                  186   \n",
       "ANDHRA PRADESH                                   57   \n",
       "ANDHRA PRADESH                                  247   \n",
       "\n",
       "                IMPORTATION OF GIRLS FROM FOREIGN COUNTRIES  \\\n",
       "STATE/UT                                                      \n",
       "ANDHRA PRADESH                                            0   \n",
       "ANDHRA PRADESH                                            0   \n",
       "ANDHRA PRADESH                                            0   \n",
       "ANDHRA PRADESH                                            0   \n",
       "ANDHRA PRADESH                                            0   \n",
       "\n",
       "                CAUSING DEATH BY NEGLIGENCE  OTHER IPC CRIMES  \\\n",
       "STATE/UT                                                        \n",
       "ANDHRA PRADESH                          181              1518   \n",
       "ANDHRA PRADESH                          270               754   \n",
       "ANDHRA PRADESH                          404              1262   \n",
       "ANDHRA PRADESH                          233              1181   \n",
       "ANDHRA PRADESH                          431              2313   \n",
       "\n",
       "                TOTAL IPC CRIMES  \n",
       "STATE/UT                          \n",
       "ANDHRA PRADESH              4154  \n",
       "ANDHRA PRADESH              4125  \n",
       "ANDHRA PRADESH              5818  \n",
       "ANDHRA PRADESH              3140  \n",
       "ANDHRA PRADESH              6507  \n",
       "\n",
       "[5 rows x 29 columns]"
      ]
     },
     "execution_count": 29,
     "metadata": {},
     "output_type": "execute_result"
    }
   ],
   "source": [
    "crimes = crimes.iloc[:, 3: ]\n",
    "crimes.head()"
   ]
  },
  {
   "cell_type": "code",
   "execution_count": 31,
   "metadata": {},
   "outputs": [
    {
     "name": "stdout",
     "output_type": "stream",
     "text": [
      "(9017, 29)\n",
      "                ATTEMPT TO MURDER  CULPABLE HOMICIDE NOT AMOUNTING TO MURDER  \\\n",
      "STATE/UT                                                                       \n",
      "ANDHRA PRADESH                 60                                         17   \n",
      "ANDHRA PRADESH                125                                          1   \n",
      "ANDHRA PRADESH                 57                                          2   \n",
      "ANDHRA PRADESH                 53                                          1   \n",
      "ANDHRA PRADESH                 67                                          1   \n",
      "\n",
      "                RAPE  CUSTODIAL RAPE  OTHER RAPE  KIDNAPPING & ABDUCTION  \\\n",
      "STATE/UT                                                                   \n",
      "ANDHRA PRADESH    50               0          50                      46   \n",
      "ANDHRA PRADESH    23               0          23                      53   \n",
      "ANDHRA PRADESH    27               0          27                      59   \n",
      "ANDHRA PRADESH    20               0          20                      25   \n",
      "ANDHRA PRADESH    23               0          23                      49   \n",
      "\n",
      "                KIDNAPPING AND ABDUCTION OF WOMEN AND GIRLS  \\\n",
      "STATE/UT                                                      \n",
      "ANDHRA PRADESH                                           30   \n",
      "ANDHRA PRADESH                                           30   \n",
      "ANDHRA PRADESH                                           34   \n",
      "ANDHRA PRADESH                                           20   \n",
      "ANDHRA PRADESH                                           26   \n",
      "\n",
      "                KIDNAPPING AND ABDUCTION OF OTHERS  DACOITY  \\\n",
      "STATE/UT                                                      \n",
      "ANDHRA PRADESH                                  16        9   \n",
      "ANDHRA PRADESH                                  23        8   \n",
      "ANDHRA PRADESH                                  25        4   \n",
      "ANDHRA PRADESH                                   5        1   \n",
      "ANDHRA PRADESH                                  23        4   \n",
      "\n",
      "                PREPARATION AND ASSEMBLY FOR DACOITY        ...         ARSON  \\\n",
      "STATE/UT                                                    ...                 \n",
      "ANDHRA PRADESH                                     0        ...            30   \n",
      "ANDHRA PRADESH                                     0        ...            69   \n",
      "ANDHRA PRADESH                                     0        ...            38   \n",
      "ANDHRA PRADESH                                     0        ...            23   \n",
      "ANDHRA PRADESH                                     0        ...            41   \n",
      "\n",
      "                HURT/GREVIOUS HURT  DOWRY DEATHS  \\\n",
      "STATE/UT                                           \n",
      "ANDHRA PRADESH                1131            16   \n",
      "ANDHRA PRADESH                1543             7   \n",
      "ANDHRA PRADESH                2088            14   \n",
      "ANDHRA PRADESH                 795            17   \n",
      "ANDHRA PRADESH                1244            12   \n",
      "\n",
      "                ASSAULT ON WOMEN WITH INTENT TO OUTRAGE HER MODESTY  \\\n",
      "STATE/UT                                                              \n",
      "ANDHRA PRADESH                                                149     \n",
      "ANDHRA PRADESH                                                118     \n",
      "ANDHRA PRADESH                                                112     \n",
      "ANDHRA PRADESH                                                126     \n",
      "ANDHRA PRADESH                                                109     \n",
      "\n",
      "                INSULT TO MODESTY OF WOMEN  \\\n",
      "STATE/UT                                     \n",
      "ANDHRA PRADESH                          34   \n",
      "ANDHRA PRADESH                          24   \n",
      "ANDHRA PRADESH                          83   \n",
      "ANDHRA PRADESH                          38   \n",
      "ANDHRA PRADESH                          58   \n",
      "\n",
      "                CRUELTY BY HUSBAND OR HIS RELATIVES  \\\n",
      "STATE/UT                                              \n",
      "ANDHRA PRADESH                                  175   \n",
      "ANDHRA PRADESH                                  154   \n",
      "ANDHRA PRADESH                                  186   \n",
      "ANDHRA PRADESH                                   57   \n",
      "ANDHRA PRADESH                                  247   \n",
      "\n",
      "                IMPORTATION OF GIRLS FROM FOREIGN COUNTRIES  \\\n",
      "STATE/UT                                                      \n",
      "ANDHRA PRADESH                                            0   \n",
      "ANDHRA PRADESH                                            0   \n",
      "ANDHRA PRADESH                                            0   \n",
      "ANDHRA PRADESH                                            0   \n",
      "ANDHRA PRADESH                                            0   \n",
      "\n",
      "                CAUSING DEATH BY NEGLIGENCE  OTHER IPC CRIMES  \\\n",
      "STATE/UT                                                        \n",
      "ANDHRA PRADESH                          181              1518   \n",
      "ANDHRA PRADESH                          270               754   \n",
      "ANDHRA PRADESH                          404              1262   \n",
      "ANDHRA PRADESH                          233              1181   \n",
      "ANDHRA PRADESH                          431              2313   \n",
      "\n",
      "                TOTAL IPC CRIMES  \n",
      "STATE/UT                          \n",
      "ANDHRA PRADESH              4154  \n",
      "ANDHRA PRADESH              4125  \n",
      "ANDHRA PRADESH              5818  \n",
      "ANDHRA PRADESH              3140  \n",
      "ANDHRA PRADESH              6507  \n",
      "\n",
      "[5 rows x 29 columns]\n"
     ]
    }
   ],
   "source": [
    "print(crimes.shape)\n",
    "print(crimes.head())\n"
   ]
  },
  {
   "cell_type": "code",
   "execution_count": 47,
   "metadata": {},
   "outputs": [
    {
     "data": {
      "text/html": [
       "<div>\n",
       "<style scoped>\n",
       "    .dataframe tbody tr th:only-of-type {\n",
       "        vertical-align: middle;\n",
       "    }\n",
       "\n",
       "    .dataframe tbody tr th {\n",
       "        vertical-align: top;\n",
       "    }\n",
       "\n",
       "    .dataframe thead th {\n",
       "        text-align: right;\n",
       "    }\n",
       "</style>\n",
       "<table border=\"1\" class=\"dataframe\">\n",
       "  <thead>\n",
       "    <tr style=\"text-align: right;\">\n",
       "      <th></th>\n",
       "      <th>ATTEMPT TO MURDER</th>\n",
       "    </tr>\n",
       "    <tr>\n",
       "      <th>STATE/UT</th>\n",
       "      <th></th>\n",
       "    </tr>\n",
       "  </thead>\n",
       "  <tbody>\n",
       "    <tr>\n",
       "      <th>ANDHRA PRADESH</th>\n",
       "      <td>60</td>\n",
       "    </tr>\n",
       "    <tr>\n",
       "      <th>ANDHRA PRADESH</th>\n",
       "      <td>125</td>\n",
       "    </tr>\n",
       "    <tr>\n",
       "      <th>ANDHRA PRADESH</th>\n",
       "      <td>57</td>\n",
       "    </tr>\n",
       "    <tr>\n",
       "      <th>ANDHRA PRADESH</th>\n",
       "      <td>53</td>\n",
       "    </tr>\n",
       "    <tr>\n",
       "      <th>ANDHRA PRADESH</th>\n",
       "      <td>67</td>\n",
       "    </tr>\n",
       "  </tbody>\n",
       "</table>\n",
       "</div>"
      ],
      "text/plain": [
       "                ATTEMPT TO MURDER\n",
       "STATE/UT                         \n",
       "ANDHRA PRADESH                 60\n",
       "ANDHRA PRADESH                125\n",
       "ANDHRA PRADESH                 57\n",
       "ANDHRA PRADESH                 53\n",
       "ANDHRA PRADESH                 67"
      ]
     },
     "execution_count": 47,
     "metadata": {},
     "output_type": "execute_result"
    }
   ],
   "source": [
    "s = crimes[['ATTEMPT TO MURDER']]\n",
    "s.head()"
   ]
  },
  {
   "cell_type": "code",
   "execution_count": 48,
   "metadata": {},
   "outputs": [],
   "source": [
    "crime_count = pd.DataFrame(s.groupby('ATTEMPT TO MURDER').size().sort_values(ascending=False).rename('counts').reset_index())"
   ]
  },
  {
   "cell_type": "code",
   "execution_count": 49,
   "metadata": {},
   "outputs": [
    {
     "data": {
      "text/html": [
       "<div>\n",
       "<style scoped>\n",
       "    .dataframe tbody tr th:only-of-type {\n",
       "        vertical-align: middle;\n",
       "    }\n",
       "\n",
       "    .dataframe tbody tr th {\n",
       "        vertical-align: top;\n",
       "    }\n",
       "\n",
       "    .dataframe thead th {\n",
       "        text-align: right;\n",
       "    }\n",
       "</style>\n",
       "<table border=\"1\" class=\"dataframe\">\n",
       "  <thead>\n",
       "    <tr style=\"text-align: right;\">\n",
       "      <th></th>\n",
       "      <th>ATTEMPT TO MURDER</th>\n",
       "      <th>counts</th>\n",
       "    </tr>\n",
       "  </thead>\n",
       "  <tbody>\n",
       "    <tr>\n",
       "      <th>0</th>\n",
       "      <td>0</td>\n",
       "      <td>486</td>\n",
       "    </tr>\n",
       "    <tr>\n",
       "      <th>1</th>\n",
       "      <td>1</td>\n",
       "      <td>276</td>\n",
       "    </tr>\n",
       "    <tr>\n",
       "      <th>2</th>\n",
       "      <td>2</td>\n",
       "      <td>248</td>\n",
       "    </tr>\n",
       "    <tr>\n",
       "      <th>3</th>\n",
       "      <td>3</td>\n",
       "      <td>217</td>\n",
       "    </tr>\n",
       "    <tr>\n",
       "      <th>4</th>\n",
       "      <td>4</td>\n",
       "      <td>198</td>\n",
       "    </tr>\n",
       "  </tbody>\n",
       "</table>\n",
       "</div>"
      ],
      "text/plain": [
       "   ATTEMPT TO MURDER  counts\n",
       "0                  0     486\n",
       "1                  1     276\n",
       "2                  2     248\n",
       "3                  3     217\n",
       "4                  4     198"
      ]
     },
     "execution_count": 49,
     "metadata": {},
     "output_type": "execute_result"
    }
   ],
   "source": [
    "crime_count.head()"
   ]
  },
  {
   "cell_type": "code",
   "execution_count": 50,
   "metadata": {},
   "outputs": [
    {
     "data": {
      "text/plain": [
       "(514, 2)"
      ]
     },
     "execution_count": 50,
     "metadata": {},
     "output_type": "execute_result"
    }
   ],
   "source": [
    "crime_count.shape\n"
   ]
  },
  {
   "cell_type": "code",
   "execution_count": 52,
   "metadata": {},
   "outputs": [
    {
     "data": {
      "image/png": "[encoded data removed]",
      "text/plain": [
       "<Figure size 432x1080 with 1 Axes>"
      ]
     },
     "metadata": {},
     "output_type": "display_data"
    }
   ],
   "source": [
    "import seaborn as sns\n",
    "import matplotlib.pyplot as plt\n",
    "sns.set(style=\"whitegrid\")\n",
    "\n",
    "# Initialize the matplotlib figure\n",
    "f, ax = plt.subplots(figsize=(6, 15))\n",
    "\n",
    "\n",
    "# Plot the total crashes\n",
    "sns.set_color_codes(\"pastel\")\n",
    "sns.barplot(x=\"counts\", y=\"ATTEMPT TO MURDER\", data=crime_count.iloc[:10, :],\n",
    "            label=\"Total\", color=\"b\")\n",
    "\n",
    "ax.legend(ncol=2, loc=\"lower right\", frameon=True)\n",
    "ax.set(ylabel=\"Type\",\n",
    "       xlabel=\"Crimes\")\n",
    "sns.despine(left=True, bottom=True)\n",
    "\n",
    "# Add a legend and informative axis label\n",
    "plt.show()"
   ]
  },
  {
   "cell_type": "code",
   "execution_count": 45,
   "metadata": {},
   "outputs": [
    {
     "data": {
      "text/html": [
       "<div>\n",
       "<style scoped>\n",
       "    .dataframe tbody tr th:only-of-type {\n",
       "        vertical-align: middle;\n",
       "    }\n",
       "\n",
       "    .dataframe tbody tr th {\n",
       "        vertical-align: top;\n",
       "    }\n",
       "\n",
       "    .dataframe thead th {\n",
       "        text-align: right;\n",
       "    }\n",
       "</style>\n",
       "<table border=\"1\" class=\"dataframe\">\n",
       "  <thead>\n",
       "    <tr style=\"text-align: right;\">\n",
       "      <th></th>\n",
       "      <th>INSULT TO MODESTY OF WOMEN</th>\n",
       "    </tr>\n",
       "    <tr>\n",
       "      <th>STATE/UT</th>\n",
       "      <th></th>\n",
       "    </tr>\n",
       "  </thead>\n",
       "  <tbody>\n",
       "    <tr>\n",
       "      <th>ANDHRA PRADESH</th>\n",
       "      <td>34</td>\n",
       "    </tr>\n",
       "    <tr>\n",
       "      <th>ANDHRA PRADESH</th>\n",
       "      <td>24</td>\n",
       "    </tr>\n",
       "    <tr>\n",
       "      <th>ANDHRA PRADESH</th>\n",
       "      <td>83</td>\n",
       "    </tr>\n",
       "    <tr>\n",
       "      <th>ANDHRA PRADESH</th>\n",
       "      <td>38</td>\n",
       "    </tr>\n",
       "    <tr>\n",
       "      <th>ANDHRA PRADESH</th>\n",
       "      <td>58</td>\n",
       "    </tr>\n",
       "  </tbody>\n",
       "</table>\n",
       "</div>"
      ],
      "text/plain": [
       "                INSULT TO MODESTY OF WOMEN\n",
       "STATE/UT                                  \n",
       "ANDHRA PRADESH                          34\n",
       "ANDHRA PRADESH                          24\n",
       "ANDHRA PRADESH                          83\n",
       "ANDHRA PRADESH                          38\n",
       "ANDHRA PRADESH                          58"
      ]
     },
     "execution_count": 45,
     "metadata": {},
     "output_type": "execute_result"
    }
   ],
   "source": [
    "s.head()\n"
   ]
  },
  {
   "cell_type": "code",
   "execution_count": null,
   "metadata": {},
   "outputs": [],
   "source": []
  },
  {
   "cell_type": "code",
   "execution_count": 20,
   "metadata": {},
   "outputs": [
    {
     "data": {
      "image/png": "[encoded data removed]",
      "text/plain": [
       "<Figure size 432x288 with 1 Axes>"
      ]
     },
     "metadata": {
      "needs_background": "light"
     },
     "output_type": "display_data"
    }
   ],
   "source": [
    "import pandas as pd\n",
    "import numpy as np\n",
    "import matplotlib.pyplot as plt\n",
    "from sklearn.cluster import KMeans\n",
    "X= -2 * np.random.rand(100,2)\n",
    "X1 = 1 + 2 * np.random.rand(50,2)\n",
    "X[50:100, :] = X1\n",
    "plt.scatter(X[ : , 0], X[ :, 1], s = 50)\n",
    "plt.show()"
   ]
  },
  {
   "cell_type": "code",
   "execution_count": null,
   "metadata": {},
   "outputs": [],
   "source": []
  },
  {
   "cell_type": "code",
   "execution_count": 9,
   "metadata": {},
   "outputs": [
    {
     "data": {
      "text/plain": [
       "KMeans(algorithm='auto', copy_x=True, init='k-means++', max_iter=300,\n",
       "    n_clusters=2, n_init=10, n_jobs=None, precompute_distances='auto',\n",
       "    random_state=None, tol=0.0001, verbose=0)"
      ]
     },
     "execution_count": 9,
     "metadata": {},
     "output_type": "execute_result"
    }
   ],
   "source": [
    "from sklearn.cluster import KMeans\n",
    "Kmean = KMeans(n_clusters=2)\n",
    "Kmean.fit(X)"
   ]
  },
  {
   "cell_type": "code",
   "execution_count": 10,
   "metadata": {},
   "outputs": [
    {
     "data": {
      "text/plain": [
       "array([[ 2.14398734,  1.91882041],\n",
       "       [-1.02285407, -0.99065048]])"
      ]
     },
     "execution_count": 10,
     "metadata": {},
     "output_type": "execute_result"
    }
   ],
   "source": [
    "Kmean.cluster_centers_"
   ]
  },
  {
   "cell_type": "code",
   "execution_count": 14,
   "metadata": {},
   "outputs": [
    {
     "data": {
      "image/png": "[encoded data removed]",
      "text/plain": [
       "<Figure size 432x288 with 1 Axes>"
      ]
     },
     "metadata": {
      "needs_background": "light"
     },
     "output_type": "display_data"
    }
   ],
   "source": [
    "plt.scatter(X[ : , 0], X[ : , 1], s =50)\n",
    "plt.scatter(-0.94665068, -0.97138368, s=200)\n",
    "plt.scatter(2.01559419, 2.02597093, s=200)\n",
    "plt.show()"
   ]
  },
  {
   "cell_type": "code",
   "execution_count": 15,
   "metadata": {},
   "outputs": [
    {
     "data": {
      "text/plain": [
       "array([1, 1, 1, 1, 1, 1, 1, 1, 1, 1, 1, 1, 1, 1, 1, 1, 1, 1, 1, 1, 1, 1,\n",
       "       1, 1, 1, 1, 1, 1, 1, 1, 1, 1, 1, 1, 1, 1, 1, 1, 1, 1, 1, 1, 1, 1,\n",
       "       1, 1, 1, 1, 1, 1, 0, 0, 0, 0, 0, 0, 0, 0, 0, 0, 0, 0, 0, 0, 0, 0,\n",
       "       0, 0, 0, 0, 0, 0, 0, 0, 0, 0, 0, 0, 0, 0, 0, 0, 0, 0, 0, 0, 0, 0,\n",
       "       0, 0, 0, 0, 0, 0, 0, 0, 0, 0, 0, 0])"
      ]
     },
     "execution_count": 15,
     "metadata": {},
     "output_type": "execute_result"
    }
   ],
   "source": [
    "Kmean.labels_"
   ]
  },
  {
   "cell_type": "code",
   "execution_count": 16,
   "metadata": {},
   "outputs": [
    {
     "data": {
      "text/plain": [
       "array([1])"
      ]
     },
     "execution_count": 16,
     "metadata": {},
     "output_type": "execute_result"
    }
   ],
   "source": [
    "sample_test=np.array([-3.0,-3.0])\n",
    "second_test=sample_test.reshape(1, -1)\n",
    "Kmean.predict(second_test)"
   ]
  },
  {
   "cell_type": "code",
   "execution_count": 18,
   "metadata": {},
   "outputs": [
    {
     "data": {
      "image/png": "[encoded data removed]",
      "text/plain": [
       "<Figure size 432x288 with 1 Axes>"
      ]
     },
     "metadata": {
      "needs_background": "light"
     },
     "output_type": "display_data"
    },
    {
     "data": {
      "image/png": "[encoded data removed]",
      "text/plain": [
       "<Figure size 432x288 with 1 Axes>"
      ]
     },
     "metadata": {
      "needs_background": "light"
     },
     "output_type": "display_data"
    },
    {
     "data": {
      "text/plain": [
       "array([1])"
      ]
     },
     "execution_count": 18,
     "metadata": {},
     "output_type": "execute_result"
    }
   ],
   "source": [
    "import pandas as pd\n",
    "import numpy as np\n",
    "import matplotlib.pyplot as plt\n",
    "from sklearn.cluster import KMeans\n",
    "%matplotlib inline\n",
    "X= -2 * np.random.rand(100,2)\n",
    "X1 = 1 + 2 * np.random.rand(50,2)\n",
    "X[50:100, :] = X1\n",
    "plt.scatter(X[ : , 0], X[ :, 1], s = 50)\n",
    "plt.show()\n",
    "from sklearn.cluster import KMeans\n",
    "Kmean = KMeans(n_clusters=2)\n",
    "Kmean.fit(X)\n",
    "Kmean.cluster_centers_\n",
    "plt.scatter(X[ : , 0], X[ : , 1], s =50)\n",
    "plt.scatter(-0.94665068, -0.97138368, s=200)\n",
    "plt.scatter(2.01559419, 2.02597093, s=200)\n",
    "plt.show()\n",
    "Kmean.labels_\n",
    "sample_test=np.array([-3.0,-3.0])\n",
    "second_test=sample_test.reshape(1, -1)\n",
    "Kmean.predict(second_test)"
   ]
  },
  {
   "cell_type": "code",
   "execution_count": 2,
   "metadata": {},
   "outputs": [
    {
     "name": "stdout",
     "output_type": "stream",
     "text": [
      "<class 'pandas.core.frame.DataFrame'>\n",
      "(9017, 29)\n",
      "                ATTEMPT TO MURDER  CULPABLE HOMICIDE NOT AMOUNTING TO MURDER  \\\n",
      "STATE/UT                                                                       \n",
      "ANDHRA PRADESH                 60                                         17   \n",
      "ANDHRA PRADESH                125                                          1   \n",
      "ANDHRA PRADESH                 57                                          2   \n",
      "ANDHRA PRADESH                 53                                          1   \n",
      "ANDHRA PRADESH                 67                                          1   \n",
      "\n",
      "                RAPE  CUSTODIAL RAPE  OTHER RAPE  KIDNAPPING & ABDUCTION  \\\n",
      "STATE/UT                                                                   \n",
      "ANDHRA PRADESH    50               0          50                      46   \n",
      "ANDHRA PRADESH    23               0          23                      53   \n",
      "ANDHRA PRADESH    27               0          27                      59   \n",
      "ANDHRA PRADESH    20               0          20                      25   \n",
      "ANDHRA PRADESH    23               0          23                      49   \n",
      "\n",
      "                KIDNAPPING AND ABDUCTION OF WOMEN AND GIRLS  \\\n",
      "STATE/UT                                                      \n",
      "ANDHRA PRADESH                                           30   \n",
      "ANDHRA PRADESH                                           30   \n",
      "ANDHRA PRADESH                                           34   \n",
      "ANDHRA PRADESH                                           20   \n",
      "ANDHRA PRADESH                                           26   \n",
      "\n",
      "                KIDNAPPING AND ABDUCTION OF OTHERS  DACOITY  \\\n",
      "STATE/UT                                                      \n",
      "ANDHRA PRADESH                                  16        9   \n",
      "ANDHRA PRADESH                                  23        8   \n",
      "ANDHRA PRADESH                                  25        4   \n",
      "ANDHRA PRADESH                                   5        1   \n",
      "ANDHRA PRADESH                                  23        4   \n",
      "\n",
      "                PREPARATION AND ASSEMBLY FOR DACOITY        ...         ARSON  \\\n",
      "STATE/UT                                                    ...                 \n",
      "ANDHRA PRADESH                                     0        ...            30   \n",
      "ANDHRA PRADESH                                     0        ...            69   \n",
      "ANDHRA PRADESH                                     0        ...            38   \n",
      "ANDHRA PRADESH                                     0        ...            23   \n",
      "ANDHRA PRADESH                                     0        ...            41   \n",
      "\n",
      "                HURT/GREVIOUS HURT  DOWRY DEATHS  \\\n",
      "STATE/UT                                           \n",
      "ANDHRA PRADESH                1131            16   \n",
      "ANDHRA PRADESH                1543             7   \n",
      "ANDHRA PRADESH                2088            14   \n",
      "ANDHRA PRADESH                 795            17   \n",
      "ANDHRA PRADESH                1244            12   \n",
      "\n",
      "                ASSAULT ON WOMEN WITH INTENT TO OUTRAGE HER MODESTY  \\\n",
      "STATE/UT                                                              \n",
      "ANDHRA PRADESH                                                149     \n",
      "ANDHRA PRADESH                                                118     \n",
      "ANDHRA PRADESH                                                112     \n",
      "ANDHRA PRADESH                                                126     \n",
      "ANDHRA PRADESH                                                109     \n",
      "\n",
      "                INSULT TO MODESTY OF WOMEN  \\\n",
      "STATE/UT                                     \n",
      "ANDHRA PRADESH                          34   \n",
      "ANDHRA PRADESH                          24   \n",
      "ANDHRA PRADESH                          83   \n",
      "ANDHRA PRADESH                          38   \n",
      "ANDHRA PRADESH                          58   \n",
      "\n",
      "                CRUELTY BY HUSBAND OR HIS RELATIVES  \\\n",
      "STATE/UT                                              \n",
      "ANDHRA PRADESH                                  175   \n",
      "ANDHRA PRADESH                                  154   \n",
      "ANDHRA PRADESH                                  186   \n",
      "ANDHRA PRADESH                                   57   \n",
      "ANDHRA PRADESH                                  247   \n",
      "\n",
      "                IMPORTATION OF GIRLS FROM FOREIGN COUNTRIES  \\\n",
      "STATE/UT                                                      \n",
      "ANDHRA PRADESH                                            0   \n",
      "ANDHRA PRADESH                                            0   \n",
      "ANDHRA PRADESH                                            0   \n",
      "ANDHRA PRADESH                                            0   \n",
      "ANDHRA PRADESH                                            0   \n",
      "\n",
      "                CAUSING DEATH BY NEGLIGENCE  OTHER IPC CRIMES  \\\n",
      "STATE/UT                                                        \n",
      "ANDHRA PRADESH                          181              1518   \n",
      "ANDHRA PRADESH                          270               754   \n",
      "ANDHRA PRADESH                          404              1262   \n",
      "ANDHRA PRADESH                          233              1181   \n",
      "ANDHRA PRADESH                          431              2313   \n",
      "\n",
      "                TOTAL IPC CRIMES  \n",
      "STATE/UT                          \n",
      "ANDHRA PRADESH              4154  \n",
      "ANDHRA PRADESH              4125  \n",
      "ANDHRA PRADESH              5818  \n",
      "ANDHRA PRADESH              3140  \n",
      "ANDHRA PRADESH              6507  \n",
      "\n",
      "[5 rows x 29 columns]\n"
     ]
    },
    {
     "data": {
      "image/png": "[encoded data removed]",
      "text/plain": [
       "<Figure size 432x1080 with 1 Axes>"
      ]
     },
     "metadata": {},
     "output_type": "display_data"
    }
   ],
   "source": [
    "import pandas as pd\n",
    "from pandas import read_csv\n",
    "crimes = read_csv(r'C:\\Users\\manish\\Downloads\\crime\\01_District_wise_crimes_committed_IPC_2001_2012.csv', index_col='STATE/UT')\n",
    "print(type(crimes))\n",
    "crimes = crimes.iloc[:, 3: ]\n",
    "crimes.head()\n",
    "#crimes.index = pd.to_datetime(crimes.index)\n",
    "print(crimes.shape)\n",
    "print(crimes.head())\n",
    "s = crimes[['ATTEMPT TO MURDER']]\n",
    "s.head()\n",
    "crime_count = pd.DataFrame(s.groupby('ATTEMPT TO MURDER').size().sort_values(ascending=False).rename('counts').reset_index())\n",
    "crime_count.head()\n",
    "crime_count.shape\n"
   ]
  },
  {
   "cell_type": "code",
   "execution_count": 3,
   "metadata": {},
   "outputs": [
    {
     "data": {
      "image/png": "[encoded data removed]",
      "text/plain": [
       "<Figure size 432x1080 with 1 Axes>"
      ]
     },
     "metadata": {},
     "output_type": "display_data"
    }
   ],
   "source": [
    "import seaborn as sns\n",
    "import matplotlib.pyplot as plt\n",
    "sns.set(style=\"whitegrid\")\n",
    "\n",
    "# Initialize the matplotlib figure\n",
    "f, ax = plt.subplots(figsize=(6, 15))\n",
    "\n",
    "\n",
    "# Plot the total crashes\n",
    "sns.set_color_codes(\"pastel\")\n",
    "sns.barplot(x=\"counts\", y=\"ATTEMPT TO MURDER\", data=crime_count.iloc[:10, :],\n",
    "            label=\"Total\", color=\"b\")\n",
    "\n",
    "ax.legend(ncol=2, loc=\"lower right\", frameon=True)\n",
    "ax.set(ylabel=\"Type\",\n",
    "       xlabel=\"Crimes\")\n",
    "sns.despine(left=True, bottom=True)\n",
    "\n",
    "# Add a legend and informative axis label\n",
    "plt.show()"
   ]
  },
  {
   "cell_type": "code",
   "execution_count": 7,
   "metadata": {},
   "outputs": [
    {
     "name": "stdout",
     "output_type": "stream",
     "text": [
      "<class 'pandas.core.frame.DataFrame'>\n",
      "(9017, 29)\n",
      "                ATTEMPT TO MURDER  CULPABLE HOMICIDE NOT AMOUNTING TO MURDER  \\\n",
      "STATE/UT                                                                       \n",
      "ANDHRA PRADESH                 60                                         17   \n",
      "ANDHRA PRADESH                125                                          1   \n",
      "ANDHRA PRADESH                 57                                          2   \n",
      "ANDHRA PRADESH                 53                                          1   \n",
      "ANDHRA PRADESH                 67                                          1   \n",
      "\n",
      "                RAPE  CUSTODIAL RAPE  OTHER RAPE  KIDNAPPING & ABDUCTION  \\\n",
      "STATE/UT                                                                   \n",
      "ANDHRA PRADESH    50               0          50                      46   \n",
      "ANDHRA PRADESH    23               0          23                      53   \n",
      "ANDHRA PRADESH    27               0          27                      59   \n",
      "ANDHRA PRADESH    20               0          20                      25   \n",
      "ANDHRA PRADESH    23               0          23                      49   \n",
      "\n",
      "                KIDNAPPING AND ABDUCTION OF WOMEN AND GIRLS  \\\n",
      "STATE/UT                                                      \n",
      "ANDHRA PRADESH                                           30   \n",
      "ANDHRA PRADESH                                           30   \n",
      "ANDHRA PRADESH                                           34   \n",
      "ANDHRA PRADESH                                           20   \n",
      "ANDHRA PRADESH                                           26   \n",
      "\n",
      "                KIDNAPPING AND ABDUCTION OF OTHERS  DACOITY  \\\n",
      "STATE/UT                                                      \n",
      "ANDHRA PRADESH                                  16        9   \n",
      "ANDHRA PRADESH                                  23        8   \n",
      "ANDHRA PRADESH                                  25        4   \n",
      "ANDHRA PRADESH                                   5        1   \n",
      "ANDHRA PRADESH                                  23        4   \n",
      "\n",
      "                PREPARATION AND ASSEMBLY FOR DACOITY        ...         ARSON  \\\n",
      "STATE/UT                                                    ...                 \n",
      "ANDHRA PRADESH                                     0        ...            30   \n",
      "ANDHRA PRADESH                                     0        ...            69   \n",
      "ANDHRA PRADESH                                     0        ...            38   \n",
      "ANDHRA PRADESH                                     0        ...            23   \n",
      "ANDHRA PRADESH                                     0        ...            41   \n",
      "\n",
      "                HURT/GREVIOUS HURT  DOWRY DEATHS  \\\n",
      "STATE/UT                                           \n",
      "ANDHRA PRADESH                1131            16   \n",
      "ANDHRA PRADESH                1543             7   \n",
      "ANDHRA PRADESH                2088            14   \n",
      "ANDHRA PRADESH                 795            17   \n",
      "ANDHRA PRADESH                1244            12   \n",
      "\n",
      "                ASSAULT ON WOMEN WITH INTENT TO OUTRAGE HER MODESTY  \\\n",
      "STATE/UT                                                              \n",
      "ANDHRA PRADESH                                                149     \n",
      "ANDHRA PRADESH                                                118     \n",
      "ANDHRA PRADESH                                                112     \n",
      "ANDHRA PRADESH                                                126     \n",
      "ANDHRA PRADESH                                                109     \n",
      "\n",
      "                INSULT TO MODESTY OF WOMEN  \\\n",
      "STATE/UT                                     \n",
      "ANDHRA PRADESH                          34   \n",
      "ANDHRA PRADESH                          24   \n",
      "ANDHRA PRADESH                          83   \n",
      "ANDHRA PRADESH                          38   \n",
      "ANDHRA PRADESH                          58   \n",
      "\n",
      "                CRUELTY BY HUSBAND OR HIS RELATIVES  \\\n",
      "STATE/UT                                              \n",
      "ANDHRA PRADESH                                  175   \n",
      "ANDHRA PRADESH                                  154   \n",
      "ANDHRA PRADESH                                  186   \n",
      "ANDHRA PRADESH                                   57   \n",
      "ANDHRA PRADESH                                  247   \n",
      "\n",
      "                IMPORTATION OF GIRLS FROM FOREIGN COUNTRIES  \\\n",
      "STATE/UT                                                      \n",
      "ANDHRA PRADESH                                            0   \n",
      "ANDHRA PRADESH                                            0   \n",
      "ANDHRA PRADESH                                            0   \n",
      "ANDHRA PRADESH                                            0   \n",
      "ANDHRA PRADESH                                            0   \n",
      "\n",
      "                CAUSING DEATH BY NEGLIGENCE  OTHER IPC CRIMES  \\\n",
      "STATE/UT                                                        \n",
      "ANDHRA PRADESH                          181              1518   \n",
      "ANDHRA PRADESH                          270               754   \n",
      "ANDHRA PRADESH                          404              1262   \n",
      "ANDHRA PRADESH                          233              1181   \n",
      "ANDHRA PRADESH                          431              2313   \n",
      "\n",
      "                TOTAL IPC CRIMES  \n",
      "STATE/UT                          \n",
      "ANDHRA PRADESH              4154  \n",
      "ANDHRA PRADESH              4125  \n",
      "ANDHRA PRADESH              5818  \n",
      "ANDHRA PRADESH              3140  \n",
      "ANDHRA PRADESH              6507  \n",
      "\n",
      "[5 rows x 29 columns]\n"
     ]
    },
    {
     "data": {
      "text/plain": [
       "(420, 2)"
      ]
     },
     "execution_count": 7,
     "metadata": {},
     "output_type": "execute_result"
    }
   ],
   "source": [
    "import pandas as pd\n",
    "from pandas import read_csv\n",
    "crimes = read_csv(r'C:\\Users\\manish\\Downloads\\crime\\01_District_wise_crimes_committed_IPC_2001_2012.csv', index_col='STATE/UT')\n",
    "print(type(crimes))\n",
    "crimes = crimes.iloc[:, 3: ]\n",
    "crimes.head()\n",
    "#crimes.index = pd.to_datetime(crimes.index)\n",
    "print(crimes.shape)\n",
    "print(crimes.head())\n",
    "s = crimes[['RAPE']]\n",
    "s.head()\n",
    "crime_count = pd.DataFrame(s.groupby('RAPE').size().sort_values(ascending=False).rename('counts').reset_index())\n",
    "crime_count.head()\n",
    "crime_count.shape"
   ]
  },
  {
   "cell_type": "code",
   "execution_count": 8,
   "metadata": {},
   "outputs": [
    {
     "data": {
      "image/png": "[encoded data removed]",
      "text/plain": [
       "<Figure size 432x1080 with 1 Axes>"
      ]
     },
     "metadata": {},
     "output_type": "display_data"
    }
   ],
   "source": [
    "import seaborn as sns\n",
    "import matplotlib.pyplot as plt\n",
    "sns.set(style=\"whitegrid\")\n",
    "\n",
    "# Initialize the matplotlib figure\n",
    "f, ax = plt.subplots(figsize=(6, 15))\n",
    "\n",
    "\n",
    "# Plot the total crashes\n",
    "sns.set_color_codes(\"pastel\")\n",
    "sns.barplot(x=\"counts\", y=\"RAPE\", data=crime_count.iloc[:10, :],\n",
    "            label=\"Total\", color=\"b\")\n",
    "\n",
    "ax.legend(ncol=2, loc=\"lower right\", frameon=True)\n",
    "ax.set(ylabel=\"Type\",\n",
    "       xlabel=\"Crimes\")\n",
    "sns.despine(left=True, bottom=True)\n",
    "\n",
    "# Add a legend and informative axis label\n",
    "plt.show()"
   ]
  },
  {
   "cell_type": "code",
   "execution_count": 13,
   "metadata": {},
   "outputs": [
    {
     "name": "stdout",
     "output_type": "stream",
     "text": [
      "<class 'pandas.core.frame.DataFrame'>\n"
     ]
    }
   ],
   "source": [
    "import pandas as pd\n",
    "from pandas import read_csv\n",
    "crimes = read_csv(r'C:\\Users\\manish\\Downloads\\crime\\01_District_wise_crimes_committed_IPC_2001_2012.csv', index_col='STATE/UT')\n",
    "print(type(crimes))\n",
    "#crimes = crimes.iloc[:, 3: ]\n",
    "#crimes.head()\n",
    "#crimes.index = pd.to_datetime(crimes.index)\n",
    "#print(crimes.shape)\n",
    "#print(crimes.head())\n",
    "#s = crimes[['KIDNAPPING & ABDUCTION']]\n",
    "#s.head()\n",
    "#crime_count = pd.DataFrame(s.groupby('KIDNAPPING & ABDUCTION').size().sort_values(ascending=False).rename('counts').reset_index())\n",
    "#crime_count.head()\n",
    "#crime_count.shape"
   ]
  },
  {
   "cell_type": "code",
   "execution_count": 14,
   "metadata": {},
   "outputs": [
    {
     "data": {
      "image/png": "[encoded data removed]",
      "text/plain": [
       "<Figure size 432x1080 with 1 Axes>"
      ]
     },
     "metadata": {},
     "output_type": "display_data"
    }
   ],
   "source": [
    "import seaborn as sns\n",
    "import matplotlib.pyplot as plt\n",
    "import pandas as pd\n",
    "from pandas import read_csv\n",
    "crimes = read_csv(r'C:\\Users\\manish\\Downloads\\crime\\01_District_wise_crimes_committed_IPC_2001_2012.csv', index_col='STATE/UT')\n",
    "sns.set(style=\"whitegrid\")\n",
    "\n",
    "# Initialize the matplotlib figure\n",
    "f, ax = plt.subplots(figsize=(6, 15))\n",
    "\n",
    "\n",
    "# Plot the total crashes\n",
    "sns.set_color_codes(\"pastel\")\n",
    "sns.barplot(x=\"counts\", y=\"KIDNAPPING & ABDUCTION\", data=crime_count.iloc[:10, :],\n",
    "            label=\"Total\", color=\"b\")\n",
    "\n",
    "ax.legend(ncol=2, loc=\"lower right\", frameon=True)\n",
    "ax.set(ylabel=\"Type\",\n",
    "       xlabel=\"Crimes\")\n",
    "sns.despine(left=True, bottom=True)\n",
    "\n",
    "# Add a legend and informative axis label\n",
    "plt.show()"
   ]
  },
  {
   "cell_type": "code",
   "execution_count": 15,
   "metadata": {},
   "outputs": [
    {
     "ename": "ValueError",
     "evalue": "Could not interpret input 'ROBBERY'",
     "output_type": "error",
     "traceback": [
      "\u001b[1;31m---------------------------------------------------------------------------\u001b[0m",
      "\u001b[1;31mValueError\u001b[0m                                Traceback (most recent call last)",
      "\u001b[1;32m<ipython-input-15-a9d9b45908ea>\u001b[0m in \u001b[0;36m<module>\u001b[1;34m\u001b[0m\n\u001b[0;32m     13\u001b[0m \u001b[0msns\u001b[0m\u001b[1;33m.\u001b[0m\u001b[0mset_color_codes\u001b[0m\u001b[1;33m(\u001b[0m\u001b[1;34m\"pastel\"\u001b[0m\u001b[1;33m)\u001b[0m\u001b[1;33m\u001b[0m\u001b[1;33m\u001b[0m\u001b[0m\n\u001b[0;32m     14\u001b[0m sns.barplot(x=\"counts\", y=\"ROBBERY\", data=crime_count.iloc[:10, :],\n\u001b[1;32m---> 15\u001b[1;33m             label=\"Total\", color=\"b\")\n\u001b[0m\u001b[0;32m     16\u001b[0m \u001b[1;33m\u001b[0m\u001b[0m\n\u001b[0;32m     17\u001b[0m \u001b[0max\u001b[0m\u001b[1;33m.\u001b[0m\u001b[0mlegend\u001b[0m\u001b[1;33m(\u001b[0m\u001b[0mncol\u001b[0m\u001b[1;33m=\u001b[0m\u001b[1;36m2\u001b[0m\u001b[1;33m,\u001b[0m \u001b[0mloc\u001b[0m\u001b[1;33m=\u001b[0m\u001b[1;34m\"lower right\"\u001b[0m\u001b[1;33m,\u001b[0m \u001b[0mframeon\u001b[0m\u001b[1;33m=\u001b[0m\u001b[1;32mTrue\u001b[0m\u001b[1;33m)\u001b[0m\u001b[1;33m\u001b[0m\u001b[1;33m\u001b[0m\u001b[0m\n",
      "\u001b[1;32m~\\AppData\\Local\\Continuum\\anaconda3\\lib\\site-packages\\seaborn\\categorical.py\u001b[0m in \u001b[0;36mbarplot\u001b[1;34m(x, y, hue, data, order, hue_order, estimator, ci, n_boot, units, orient, color, palette, saturation, errcolor, errwidth, capsize, dodge, ax, **kwargs)\u001b[0m\n\u001b[0;32m   3147\u001b[0m                           \u001b[0mestimator\u001b[0m\u001b[1;33m,\u001b[0m \u001b[0mci\u001b[0m\u001b[1;33m,\u001b[0m \u001b[0mn_boot\u001b[0m\u001b[1;33m,\u001b[0m \u001b[0munits\u001b[0m\u001b[1;33m,\u001b[0m\u001b[1;33m\u001b[0m\u001b[1;33m\u001b[0m\u001b[0m\n\u001b[0;32m   3148\u001b[0m                           \u001b[0morient\u001b[0m\u001b[1;33m,\u001b[0m \u001b[0mcolor\u001b[0m\u001b[1;33m,\u001b[0m \u001b[0mpalette\u001b[0m\u001b[1;33m,\u001b[0m \u001b[0msaturation\u001b[0m\u001b[1;33m,\u001b[0m\u001b[1;33m\u001b[0m\u001b[1;33m\u001b[0m\u001b[0m\n\u001b[1;32m-> 3149\u001b[1;33m                           errcolor, errwidth, capsize, dodge)\n\u001b[0m\u001b[0;32m   3150\u001b[0m \u001b[1;33m\u001b[0m\u001b[0m\n\u001b[0;32m   3151\u001b[0m     \u001b[1;32mif\u001b[0m \u001b[0max\u001b[0m \u001b[1;32mis\u001b[0m \u001b[1;32mNone\u001b[0m\u001b[1;33m:\u001b[0m\u001b[1;33m\u001b[0m\u001b[1;33m\u001b[0m\u001b[0m\n",
      "\u001b[1;32m~\\AppData\\Local\\Continuum\\anaconda3\\lib\\site-packages\\seaborn\\categorical.py\u001b[0m in \u001b[0;36m__init__\u001b[1;34m(self, x, y, hue, data, order, hue_order, estimator, ci, n_boot, units, orient, color, palette, saturation, errcolor, errwidth, capsize, dodge)\u001b[0m\n\u001b[0;32m   1605\u001b[0m         \u001b[1;34m\"\"\"Initialize the plotter.\"\"\"\u001b[0m\u001b[1;33m\u001b[0m\u001b[1;33m\u001b[0m\u001b[0m\n\u001b[0;32m   1606\u001b[0m         self.establish_variables(x, y, hue, data, orient,\n\u001b[1;32m-> 1607\u001b[1;33m                                  order, hue_order, units)\n\u001b[0m\u001b[0;32m   1608\u001b[0m         \u001b[0mself\u001b[0m\u001b[1;33m.\u001b[0m\u001b[0mestablish_colors\u001b[0m\u001b[1;33m(\u001b[0m\u001b[0mcolor\u001b[0m\u001b[1;33m,\u001b[0m \u001b[0mpalette\u001b[0m\u001b[1;33m,\u001b[0m \u001b[0msaturation\u001b[0m\u001b[1;33m)\u001b[0m\u001b[1;33m\u001b[0m\u001b[1;33m\u001b[0m\u001b[0m\n\u001b[0;32m   1609\u001b[0m         \u001b[0mself\u001b[0m\u001b[1;33m.\u001b[0m\u001b[0mestimate_statistic\u001b[0m\u001b[1;33m(\u001b[0m\u001b[0mestimator\u001b[0m\u001b[1;33m,\u001b[0m \u001b[0mci\u001b[0m\u001b[1;33m,\u001b[0m \u001b[0mn_boot\u001b[0m\u001b[1;33m)\u001b[0m\u001b[1;33m\u001b[0m\u001b[1;33m\u001b[0m\u001b[0m\n",
      "\u001b[1;32m~\\AppData\\Local\\Continuum\\anaconda3\\lib\\site-packages\\seaborn\\categorical.py\u001b[0m in \u001b[0;36mestablish_variables\u001b[1;34m(self, x, y, hue, data, orient, order, hue_order, units)\u001b[0m\n\u001b[0;32m    153\u001b[0m                 \u001b[1;32mif\u001b[0m \u001b[0misinstance\u001b[0m\u001b[1;33m(\u001b[0m\u001b[0minput\u001b[0m\u001b[1;33m,\u001b[0m \u001b[0mstring_types\u001b[0m\u001b[1;33m)\u001b[0m\u001b[1;33m:\u001b[0m\u001b[1;33m\u001b[0m\u001b[1;33m\u001b[0m\u001b[0m\n\u001b[0;32m    154\u001b[0m                     \u001b[0merr\u001b[0m \u001b[1;33m=\u001b[0m \u001b[1;34m\"Could not interpret input '{}'\"\u001b[0m\u001b[1;33m.\u001b[0m\u001b[0mformat\u001b[0m\u001b[1;33m(\u001b[0m\u001b[0minput\u001b[0m\u001b[1;33m)\u001b[0m\u001b[1;33m\u001b[0m\u001b[1;33m\u001b[0m\u001b[0m\n\u001b[1;32m--> 155\u001b[1;33m                     \u001b[1;32mraise\u001b[0m \u001b[0mValueError\u001b[0m\u001b[1;33m(\u001b[0m\u001b[0merr\u001b[0m\u001b[1;33m)\u001b[0m\u001b[1;33m\u001b[0m\u001b[1;33m\u001b[0m\u001b[0m\n\u001b[0m\u001b[0;32m    156\u001b[0m \u001b[1;33m\u001b[0m\u001b[0m\n\u001b[0;32m    157\u001b[0m             \u001b[1;31m# Figure out the plotting orientation\u001b[0m\u001b[1;33m\u001b[0m\u001b[1;33m\u001b[0m\u001b[1;33m\u001b[0m\u001b[0m\n",
      "\u001b[1;31mValueError\u001b[0m: Could not interpret input 'ROBBERY'"
     ]
    },
    {
     "data": {
      "image/png": "[encoded data removed]",
      "text/plain": [
       "<Figure size 432x1080 with 1 Axes>"
      ]
     },
     "metadata": {},
     "output_type": "display_data"
    }
   ],
   "source": [
    "import seaborn as sns\n",
    "import matplotlib.pyplot as plt\n",
    "import pandas as pd\n",
    "from pandas import read_csv\n",
    "crimes = read_csv(r'C:\\Users\\manish\\Downloads\\crime\\01_District_wise_crimes_committed_IPC_2001_2012.csv', index_col='STATE/UT')\n",
    "sns.set(style=\"whitegrid\")\n",
    "\n",
    "# Initialize the matplotlib figure\n",
    "f, ax = plt.subplots(figsize=(6, 15))\n",
    "\n",
    "\n",
    "# Plot the total crashes\n",
    "sns.set_color_codes(\"pastel\")\n",
    "sns.barplot(x=\"counts\", y=\"ROBBERY\", data=crime_count.iloc[:10, :],\n",
    "            label=\"Total\", color=\"b\")\n",
    "\n",
    "ax.legend(ncol=2, loc=\"lower right\", frameon=True)\n",
    "ax.set(ylabel=\"Type\",\n",
    "       xlabel=\"Crimes\")\n",
    "sns.despine(left=True, bottom=True)\n",
    "\n",
    "# Add a legend and informative axis label\n",
    "plt.show()"
   ]
  },
  {
   "cell_type": "code",
   "execution_count": 16,
   "metadata": {},
   "outputs": [
    {
     "name": "stdout",
     "output_type": "stream",
     "text": [
      "<class 'pandas.core.frame.DataFrame'>\n"
     ]
    }
   ],
   "source": [
    "import pandas as pd\n",
    "from pandas import read_csv\n",
    "crimes = read_csv(r'C:\\Users\\manish\\Downloads\\crime\\01_District_wise_crimes_committed_IPC_2001_2012.csv', index_col='STATE/UT')\n",
    "print(type(crimes))\n"
   ]
  },
  {
   "cell_type": "code",
   "execution_count": 17,
   "metadata": {},
   "outputs": [
    {
     "ename": "ValueError",
     "evalue": "Could not interpret input 'ROBBERY'",
     "output_type": "error",
     "traceback": [
      "\u001b[1;31m---------------------------------------------------------------------------\u001b[0m",
      "\u001b[1;31mValueError\u001b[0m                                Traceback (most recent call last)",
      "\u001b[1;32m<ipython-input-17-a9d9b45908ea>\u001b[0m in \u001b[0;36m<module>\u001b[1;34m\u001b[0m\n\u001b[0;32m     13\u001b[0m \u001b[0msns\u001b[0m\u001b[1;33m.\u001b[0m\u001b[0mset_color_codes\u001b[0m\u001b[1;33m(\u001b[0m\u001b[1;34m\"pastel\"\u001b[0m\u001b[1;33m)\u001b[0m\u001b[1;33m\u001b[0m\u001b[1;33m\u001b[0m\u001b[0m\n\u001b[0;32m     14\u001b[0m sns.barplot(x=\"counts\", y=\"ROBBERY\", data=crime_count.iloc[:10, :],\n\u001b[1;32m---> 15\u001b[1;33m             label=\"Total\", color=\"b\")\n\u001b[0m\u001b[0;32m     16\u001b[0m \u001b[1;33m\u001b[0m\u001b[0m\n\u001b[0;32m     17\u001b[0m \u001b[0max\u001b[0m\u001b[1;33m.\u001b[0m\u001b[0mlegend\u001b[0m\u001b[1;33m(\u001b[0m\u001b[0mncol\u001b[0m\u001b[1;33m=\u001b[0m\u001b[1;36m2\u001b[0m\u001b[1;33m,\u001b[0m \u001b[0mloc\u001b[0m\u001b[1;33m=\u001b[0m\u001b[1;34m\"lower right\"\u001b[0m\u001b[1;33m,\u001b[0m \u001b[0mframeon\u001b[0m\u001b[1;33m=\u001b[0m\u001b[1;32mTrue\u001b[0m\u001b[1;33m)\u001b[0m\u001b[1;33m\u001b[0m\u001b[1;33m\u001b[0m\u001b[0m\n",
      "\u001b[1;32m~\\AppData\\Local\\Continuum\\anaconda3\\lib\\site-packages\\seaborn\\categorical.py\u001b[0m in \u001b[0;36mbarplot\u001b[1;34m(x, y, hue, data, order, hue_order, estimator, ci, n_boot, units, orient, color, palette, saturation, errcolor, errwidth, capsize, dodge, ax, **kwargs)\u001b[0m\n\u001b[0;32m   3147\u001b[0m                           \u001b[0mestimator\u001b[0m\u001b[1;33m,\u001b[0m \u001b[0mci\u001b[0m\u001b[1;33m,\u001b[0m \u001b[0mn_boot\u001b[0m\u001b[1;33m,\u001b[0m \u001b[0munits\u001b[0m\u001b[1;33m,\u001b[0m\u001b[1;33m\u001b[0m\u001b[1;33m\u001b[0m\u001b[0m\n\u001b[0;32m   3148\u001b[0m                           \u001b[0morient\u001b[0m\u001b[1;33m,\u001b[0m \u001b[0mcolor\u001b[0m\u001b[1;33m,\u001b[0m \u001b[0mpalette\u001b[0m\u001b[1;33m,\u001b[0m \u001b[0msaturation\u001b[0m\u001b[1;33m,\u001b[0m\u001b[1;33m\u001b[0m\u001b[1;33m\u001b[0m\u001b[0m\n\u001b[1;32m-> 3149\u001b[1;33m                           errcolor, errwidth, capsize, dodge)\n\u001b[0m\u001b[0;32m   3150\u001b[0m \u001b[1;33m\u001b[0m\u001b[0m\n\u001b[0;32m   3151\u001b[0m     \u001b[1;32mif\u001b[0m \u001b[0max\u001b[0m \u001b[1;32mis\u001b[0m \u001b[1;32mNone\u001b[0m\u001b[1;33m:\u001b[0m\u001b[1;33m\u001b[0m\u001b[1;33m\u001b[0m\u001b[0m\n",
      "\u001b[1;32m~\\AppData\\Local\\Continuum\\anaconda3\\lib\\site-packages\\seaborn\\categorical.py\u001b[0m in \u001b[0;36m__init__\u001b[1;34m(self, x, y, hue, data, order, hue_order, estimator, ci, n_boot, units, orient, color, palette, saturation, errcolor, errwidth, capsize, dodge)\u001b[0m\n\u001b[0;32m   1605\u001b[0m         \u001b[1;34m\"\"\"Initialize the plotter.\"\"\"\u001b[0m\u001b[1;33m\u001b[0m\u001b[1;33m\u001b[0m\u001b[0m\n\u001b[0;32m   1606\u001b[0m         self.establish_variables(x, y, hue, data, orient,\n\u001b[1;32m-> 1607\u001b[1;33m                                  order, hue_order, units)\n\u001b[0m\u001b[0;32m   1608\u001b[0m         \u001b[0mself\u001b[0m\u001b[1;33m.\u001b[0m\u001b[0mestablish_colors\u001b[0m\u001b[1;33m(\u001b[0m\u001b[0mcolor\u001b[0m\u001b[1;33m,\u001b[0m \u001b[0mpalette\u001b[0m\u001b[1;33m,\u001b[0m \u001b[0msaturation\u001b[0m\u001b[1;33m)\u001b[0m\u001b[1;33m\u001b[0m\u001b[1;33m\u001b[0m\u001b[0m\n\u001b[0;32m   1609\u001b[0m         \u001b[0mself\u001b[0m\u001b[1;33m.\u001b[0m\u001b[0mestimate_statistic\u001b[0m\u001b[1;33m(\u001b[0m\u001b[0mestimator\u001b[0m\u001b[1;33m,\u001b[0m \u001b[0mci\u001b[0m\u001b[1;33m,\u001b[0m \u001b[0mn_boot\u001b[0m\u001b[1;33m)\u001b[0m\u001b[1;33m\u001b[0m\u001b[1;33m\u001b[0m\u001b[0m\n",
      "\u001b[1;32m~\\AppData\\Local\\Continuum\\anaconda3\\lib\\site-packages\\seaborn\\categorical.py\u001b[0m in \u001b[0;36mestablish_variables\u001b[1;34m(self, x, y, hue, data, orient, order, hue_order, units)\u001b[0m\n\u001b[0;32m    153\u001b[0m                 \u001b[1;32mif\u001b[0m \u001b[0misinstance\u001b[0m\u001b[1;33m(\u001b[0m\u001b[0minput\u001b[0m\u001b[1;33m,\u001b[0m \u001b[0mstring_types\u001b[0m\u001b[1;33m)\u001b[0m\u001b[1;33m:\u001b[0m\u001b[1;33m\u001b[0m\u001b[1;33m\u001b[0m\u001b[0m\n\u001b[0;32m    154\u001b[0m                     \u001b[0merr\u001b[0m \u001b[1;33m=\u001b[0m \u001b[1;34m\"Could not interpret input '{}'\"\u001b[0m\u001b[1;33m.\u001b[0m\u001b[0mformat\u001b[0m\u001b[1;33m(\u001b[0m\u001b[0minput\u001b[0m\u001b[1;33m)\u001b[0m\u001b[1;33m\u001b[0m\u001b[1;33m\u001b[0m\u001b[0m\n\u001b[1;32m--> 155\u001b[1;33m                     \u001b[1;32mraise\u001b[0m \u001b[0mValueError\u001b[0m\u001b[1;33m(\u001b[0m\u001b[0merr\u001b[0m\u001b[1;33m)\u001b[0m\u001b[1;33m\u001b[0m\u001b[1;33m\u001b[0m\u001b[0m\n\u001b[0m\u001b[0;32m    156\u001b[0m \u001b[1;33m\u001b[0m\u001b[0m\n\u001b[0;32m    157\u001b[0m             \u001b[1;31m# Figure out the plotting orientation\u001b[0m\u001b[1;33m\u001b[0m\u001b[1;33m\u001b[0m\u001b[1;33m\u001b[0m\u001b[0m\n",
      "\u001b[1;31mValueError\u001b[0m: Could not interpret input 'ROBBERY'"
     ]
    },
    {
     "data": {
      "image/png": "[encoded data removed]",
      "text/plain": [
       "<Figure size 432x1080 with 1 Axes>"
      ]
     },
     "metadata": {},
     "output_type": "display_data"
    }
   ],
   "source": [
    "import seaborn as sns\n",
    "import matplotlib.pyplot as plt\n",
    "import pandas as pd\n",
    "from pandas import read_csv\n",
    "crimes = read_csv(r'C:\\Users\\manish\\Downloads\\crime\\01_District_wise_crimes_committed_IPC_2001_2012.csv', index_col='STATE/UT')\n",
    "sns.set(style=\"whitegrid\")\n",
    "\n",
    "# Initialize the matplotlib figure\n",
    "f, ax = plt.subplots(figsize=(6, 15))\n",
    "\n",
    "\n",
    "# Plot the total crashes\n",
    "sns.set_color_codes(\"pastel\")\n",
    "sns.barplot(x=\"counts\", y=\"ROBBERY\", data=crime_count.iloc[:10, :],\n",
    "            label=\"Total\", color=\"b\")\n",
    "\n",
    "ax.legend(ncol=2, loc=\"lower right\", frameon=True)\n",
    "ax.set(ylabel=\"Type\",\n",
    "       xlabel=\"Crimes\")\n",
    "sns.despine(left=True, bottom=True)\n",
    "\n",
    "# Add a legend and informative axis label\n",
    "plt.show()"
   ]
  },
  {
   "cell_type": "code",
   "execution_count": 18,
   "metadata": {},
   "outputs": [
    {
     "name": "stdout",
     "output_type": "stream",
     "text": [
      "<class 'pandas.core.frame.DataFrame'>\n"
     ]
    },
    {
     "data": {
      "image/png": "[encoded data removed]",
      "text/plain": [
       "<Figure size 432x1080 with 1 Axes>"
      ]
     },
     "metadata": {},
     "output_type": "display_data"
    }
   ],
   "source": [
    "import pandas as pd\n",
    "from pandas import read_csv\n",
    "import seaborn as sns\n",
    "import matplotlib.pyplot as plt\n",
    "crimes = read_csv(r'C:\\Users\\manish\\Downloads\\crime\\01_District_wise_crimes_committed_IPC_2001_2012.csv', index_col='STATE/UT')\n",
    "print(type(crimes))\n",
    "crimes = crimes.iloc[:, 3: ]\n",
    "crimes.head()\n",
    "#crimes.index = pd.to_datetime(crimes.index)\n",
    "#print(crimes.shape)\n",
    "#print(crimes.head())\n",
    "s = crimes[['ROBBERY']]\n",
    "s.head()\n",
    "crime_count = pd.DataFrame(s.groupby('ROBBERY').size().sort_values(ascending=False).rename('counts').reset_index())\n",
    "crime_count.head()\n",
    "crime_count.shape\n",
    "\n",
    "\n",
    "# Initialize the matplotlib figure\n",
    "f, ax = plt.subplots(figsize=(6, 15))\n",
    "\n",
    "\n",
    "# Plot the total crashes\n",
    "sns.set_color_codes(\"pastel\")\n",
    "sns.barplot(x=\"counts\", y=\"ROBBERY\", data=crime_count.iloc[:10, :],\n",
    "            label=\"Total\", color=\"b\")\n",
    "\n",
    "ax.legend(ncol=2, loc=\"lower right\", frameon=True)\n",
    "ax.set(ylabel=\"Type\",\n",
    "       xlabel=\"Crimes\")\n",
    "sns.despine(left=True, bottom=True)\n",
    "\n",
    "# Add a legend and informative axis label\n",
    "plt.show()"
   ]
  },
  {
   "cell_type": "code",
   "execution_count": null,
   "metadata": {},
   "outputs": [],
   "source": [
    "crimes_1997 = crimes.loc['1997']\n",
    "crimes_1998 = crimes.loc['1998']\n",
    "crimes_1999 = crimes.loc['1999']\n",
    "crimes_2000 = crimes.loc['2000']\n",
    "crimes_2001 = crimes.loc['2001']\n",
    "crimes_2002 = crimes.loc['2002']"
   ]
  },
  {
   "cell_type": "code",
   "execution_count": 22,
   "metadata": {},
   "outputs": [
    {
     "name": "stdout",
     "output_type": "stream",
     "text": [
      "<class 'pandas.core.series.Series'>\n",
      "STATE/UT\n",
      "ANDHRA PRADESH    1\n",
      "ASSAM             1\n",
      "ASSAM             1\n",
      "ASSAM             1\n",
      "ASSAM             1\n",
      "Name: DOWRY DEATHS, dtype: int64\n"
     ]
    }
   ],
   "source": [
    "arrest_yearly = crimes[crimes['DOWRY DEATHS'] == True]['DOWRY DEATHS']\n",
    "print(type(arrest_yearly))\n",
    "print(arrest_yearly.head())"
   ]
  },
  {
   "cell_type": "code",
   "execution_count": 23,
   "metadata": {},
   "outputs": [
    {
     "ename": "TypeError",
     "evalue": "Only valid with DatetimeIndex, TimedeltaIndex or PeriodIndex, but got an instance of 'Index'",
     "output_type": "error",
     "traceback": [
      "\u001b[1;31m---------------------------------------------------------------------------\u001b[0m",
      "\u001b[1;31mTypeError\u001b[0m                                 Traceback (most recent call last)",
      "\u001b[1;32m<ipython-input-23-7c1ceb7ec5ae>\u001b[0m in \u001b[0;36m<module>\u001b[1;34m\u001b[0m\n\u001b[0;32m      1\u001b[0m \u001b[0mplt\u001b[0m\u001b[1;33m.\u001b[0m\u001b[0msubplot\u001b[0m\u001b[1;33m(\u001b[0m\u001b[1;33m)\u001b[0m\u001b[1;33m\u001b[0m\u001b[1;33m\u001b[0m\u001b[0m\n\u001b[0;32m      2\u001b[0m \u001b[1;31m# yearly arrest\u001b[0m\u001b[1;33m\u001b[0m\u001b[1;33m\u001b[0m\u001b[1;33m\u001b[0m\u001b[0m\n\u001b[1;32m----> 3\u001b[1;33m \u001b[0marrest_yearly\u001b[0m\u001b[1;33m.\u001b[0m\u001b[0mresample\u001b[0m\u001b[1;33m(\u001b[0m\u001b[1;34m'A'\u001b[0m\u001b[1;33m)\u001b[0m\u001b[1;33m.\u001b[0m\u001b[0msum\u001b[0m\u001b[1;33m(\u001b[0m\u001b[1;33m)\u001b[0m\u001b[1;33m.\u001b[0m\u001b[0mplot\u001b[0m\u001b[1;33m(\u001b[0m\u001b[1;33m)\u001b[0m\u001b[1;33m\u001b[0m\u001b[1;33m\u001b[0m\u001b[0m\n\u001b[0m\u001b[0;32m      4\u001b[0m \u001b[0mplt\u001b[0m\u001b[1;33m.\u001b[0m\u001b[0mtitle\u001b[0m\u001b[1;33m(\u001b[0m\u001b[1;34m'Yearly dowry'\u001b[0m\u001b[1;33m)\u001b[0m\u001b[1;33m\u001b[0m\u001b[1;33m\u001b[0m\u001b[0m\n\u001b[0;32m      5\u001b[0m \u001b[0mplt\u001b[0m\u001b[1;33m.\u001b[0m\u001b[0mshow\u001b[0m\u001b[1;33m(\u001b[0m\u001b[1;33m)\u001b[0m\u001b[1;33m\u001b[0m\u001b[1;33m\u001b[0m\u001b[0m\n",
      "\u001b[1;32m~\\AppData\\Local\\Continuum\\anaconda3\\lib\\site-packages\\pandas\\core\\generic.py\u001b[0m in \u001b[0;36mresample\u001b[1;34m(self, rule, how, axis, fill_method, closed, label, convention, kind, loffset, limit, base, on, level)\u001b[0m\n\u001b[0;32m   7108\u001b[0m                      \u001b[0maxis\u001b[0m\u001b[1;33m=\u001b[0m\u001b[0maxis\u001b[0m\u001b[1;33m,\u001b[0m \u001b[0mkind\u001b[0m\u001b[1;33m=\u001b[0m\u001b[0mkind\u001b[0m\u001b[1;33m,\u001b[0m \u001b[0mloffset\u001b[0m\u001b[1;33m=\u001b[0m\u001b[0mloffset\u001b[0m\u001b[1;33m,\u001b[0m\u001b[1;33m\u001b[0m\u001b[1;33m\u001b[0m\u001b[0m\n\u001b[0;32m   7109\u001b[0m                      \u001b[0mconvention\u001b[0m\u001b[1;33m=\u001b[0m\u001b[0mconvention\u001b[0m\u001b[1;33m,\u001b[0m\u001b[1;33m\u001b[0m\u001b[1;33m\u001b[0m\u001b[0m\n\u001b[1;32m-> 7110\u001b[1;33m                      base=base, key=on, level=level)\n\u001b[0m\u001b[0;32m   7111\u001b[0m         return _maybe_process_deprecations(r,\n\u001b[0;32m   7112\u001b[0m                                            \u001b[0mhow\u001b[0m\u001b[1;33m=\u001b[0m\u001b[0mhow\u001b[0m\u001b[1;33m,\u001b[0m\u001b[1;33m\u001b[0m\u001b[1;33m\u001b[0m\u001b[0m\n",
      "\u001b[1;32m~\\AppData\\Local\\Continuum\\anaconda3\\lib\\site-packages\\pandas\\core\\resample.py\u001b[0m in \u001b[0;36mresample\u001b[1;34m(obj, kind, **kwds)\u001b[0m\n\u001b[0;32m   1146\u001b[0m     \u001b[1;34m\"\"\" create a TimeGrouper and return our resampler \"\"\"\u001b[0m\u001b[1;33m\u001b[0m\u001b[1;33m\u001b[0m\u001b[0m\n\u001b[0;32m   1147\u001b[0m     \u001b[0mtg\u001b[0m \u001b[1;33m=\u001b[0m \u001b[0mTimeGrouper\u001b[0m\u001b[1;33m(\u001b[0m\u001b[1;33m**\u001b[0m\u001b[0mkwds\u001b[0m\u001b[1;33m)\u001b[0m\u001b[1;33m\u001b[0m\u001b[1;33m\u001b[0m\u001b[0m\n\u001b[1;32m-> 1148\u001b[1;33m     \u001b[1;32mreturn\u001b[0m \u001b[0mtg\u001b[0m\u001b[1;33m.\u001b[0m\u001b[0m_get_resampler\u001b[0m\u001b[1;33m(\u001b[0m\u001b[0mobj\u001b[0m\u001b[1;33m,\u001b[0m \u001b[0mkind\u001b[0m\u001b[1;33m=\u001b[0m\u001b[0mkind\u001b[0m\u001b[1;33m)\u001b[0m\u001b[1;33m\u001b[0m\u001b[1;33m\u001b[0m\u001b[0m\n\u001b[0m\u001b[0;32m   1149\u001b[0m \u001b[1;33m\u001b[0m\u001b[0m\n\u001b[0;32m   1150\u001b[0m \u001b[1;33m\u001b[0m\u001b[0m\n",
      "\u001b[1;32m~\\AppData\\Local\\Continuum\\anaconda3\\lib\\site-packages\\pandas\\core\\resample.py\u001b[0m in \u001b[0;36m_get_resampler\u001b[1;34m(self, obj, kind)\u001b[0m\n\u001b[0;32m   1274\u001b[0m         raise TypeError(\"Only valid with DatetimeIndex, \"\n\u001b[0;32m   1275\u001b[0m                         \u001b[1;34m\"TimedeltaIndex or PeriodIndex, \"\u001b[0m\u001b[1;33m\u001b[0m\u001b[1;33m\u001b[0m\u001b[0m\n\u001b[1;32m-> 1276\u001b[1;33m                         \"but got an instance of %r\" % type(ax).__name__)\n\u001b[0m\u001b[0;32m   1277\u001b[0m \u001b[1;33m\u001b[0m\u001b[0m\n\u001b[0;32m   1278\u001b[0m     \u001b[1;32mdef\u001b[0m \u001b[0m_get_grouper\u001b[0m\u001b[1;33m(\u001b[0m\u001b[0mself\u001b[0m\u001b[1;33m,\u001b[0m \u001b[0mobj\u001b[0m\u001b[1;33m,\u001b[0m \u001b[0mvalidate\u001b[0m\u001b[1;33m=\u001b[0m\u001b[1;32mTrue\u001b[0m\u001b[1;33m)\u001b[0m\u001b[1;33m:\u001b[0m\u001b[1;33m\u001b[0m\u001b[1;33m\u001b[0m\u001b[0m\n",
      "\u001b[1;31mTypeError\u001b[0m: Only valid with DatetimeIndex, TimedeltaIndex or PeriodIndex, but got an instance of 'Index'"
     ]
    },
    {
     "data": {
      "image/png": "[encoded data removed]",
      "text/plain": [
       "<Figure size 432x288 with 1 Axes>"
      ]
     },
     "metadata": {},
     "output_type": "display_data"
    }
   ],
   "source": [
    "plt.subplot()\n",
    "# yearly arrest\n",
    "arrest_yearly.resample('A').sum().plot()\n",
    "plt.title('Yearly dowry')\n",
    "plt.show()\n",
    "# Monthly arrest\n",
    "arrest_yearly.resample('M').sum().plot()\n",
    "plt.title('Monthly dowry')\n",
    "plt.show()\n",
    "# Weekly arrest\n",
    "arrest_yearly.resample('W').sum().plot()\n",
    "plt.title('Weekly dowry')\n",
    "plt.show()\n",
    "# daily arrest\n",
    "arrest_yearly.resample('D').sum().plot()\n",
    "plt.title('Daily dowry')\n",
    "plt.show()\n",
    "plt.show()"
   ]
  },
  {
   "cell_type": "code",
   "execution_count": null,
   "metadata": {},
   "outputs": [],
   "source": []
  }
 ],
 "metadata": {
  "kernelspec": {
   "display_name": "Python 3",
   "language": "python",
   "name": "python3"
  },
  "language_info": {
   "codemirror_mode": {
    "name": "ipython",
    "version": 3
   },
   "file_extension": ".py",
   "mimetype": "text/x-python",
   "name": "python",
   "nbconvert_exporter": "python",
   "pygments_lexer": "ipython3",
   "version": "3.7.1"
  }
 },
 "nbformat": 4,
 "nbformat_minor": 2
}
